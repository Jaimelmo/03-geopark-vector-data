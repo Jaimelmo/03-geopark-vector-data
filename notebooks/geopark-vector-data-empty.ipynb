{
  "cells": [
    {
      "cell_type": "markdown",
      "metadata": {
        "id": "yBYGUIzHGUiJ"
      },
      "source": [
        "Let's get started working with spatial data! In this notebook you'll learn how to open and plot GeoDataFrames as shapefiles (.shp) in `Python` using the `Geopandas` library. We'll also demonstrate how to make an interactive map using `Folium`.\n",
        "\n",
        "You can read more about working with **Geopandas** here:\n",
        "> * [Earth Data Science Textbook](https://www.earthdatascience.org/courses/use-data-open-source-python/intro-vector-data-python/spatial-data-vector-shapefiles/)\n",
        "> * [Geopandas Documentation](https://geopandas.org/en/stable/getting_started/introduction.html)\n",
        "\n",
        "Read more about **Folium** here: \n",
        "> * [Earth Data Science Textbook](https://www.earthdatascience.org/tutorials/introduction-to-leaflet-animated-maps/) \n",
        "> * [Folium Documentation](https://python-visualization.github.io/folium/latest/getting_started.html)\n",
        "\n",
        "From Earth Data Science textbook: \n",
        "\n",
        "![](https://www.earthdatascience.org/images/courses/earth-analytics/spatial-data/points-lines-polygons-vector-data-types.png)"
      ]
    },
    {
      "cell_type": "code",
      "execution_count": 1,
      "metadata": {
        "id": "_cFkQHA8xY3e"
      },
      "outputs": [],
      "source": [
        "# Import Python libraries\n",
        "import matplotlib.pyplot as plt\n",
        "import pandas as pd\n",
        "import geopandas as gpd"
      ]
    },
    {
      "cell_type": "code",
      "execution_count": 2,
      "metadata": {
        "id": "uutOw-fVxd9m"
      },
      "outputs": [
        {
          "data": {
            "text/html": [
              "<div>\n",
              "<style scoped>\n",
              "    .dataframe tbody tr th:only-of-type {\n",
              "        vertical-align: middle;\n",
              "    }\n",
              "\n",
              "    .dataframe tbody tr th {\n",
              "        vertical-align: top;\n",
              "    }\n",
              "\n",
              "    .dataframe thead th {\n",
              "        text-align: right;\n",
              "    }\n",
              "</style>\n",
              "<table border=\"1\" class=\"dataframe\">\n",
              "  <thead>\n",
              "    <tr style=\"text-align: right;\">\n",
              "      <th></th>\n",
              "      <th>ID_ESPACIA</th>\n",
              "      <th>AREA_OFICI</th>\n",
              "      <th>ENTIDAD_TE</th>\n",
              "      <th>NOM_DEPART</th>\n",
              "      <th>NOM_MUNICI</th>\n",
              "      <th>COD_DEPTO</th>\n",
              "      <th>geometry</th>\n",
              "    </tr>\n",
              "  </thead>\n",
              "  <tbody>\n",
              "    <tr>\n",
              "      <th>0</th>\n",
              "      <td>23189</td>\n",
              "      <td>637.49</td>\n",
              "      <td>Cabecera Municipal</td>\n",
              "      <td>CÓRDOBA</td>\n",
              "      <td>CIÉNAGA DE ORO</td>\n",
              "      <td>23</td>\n",
              "      <td>POLYGON ((-75.71080 8.98249, -75.71119 8.98358...</td>\n",
              "    </tr>\n",
              "    <tr>\n",
              "      <th>1</th>\n",
              "      <td>23570</td>\n",
              "      <td>795.00</td>\n",
              "      <td>Cabecera Municipal</td>\n",
              "      <td>CÓRDOBA</td>\n",
              "      <td>PUEBLO NUEVO</td>\n",
              "      <td>23</td>\n",
              "      <td>POLYGON ((-75.25133 8.32489, -75.25144 8.32489...</td>\n",
              "    </tr>\n",
              "    <tr>\n",
              "      <th>2</th>\n",
              "      <td>23068</td>\n",
              "      <td>1932.62</td>\n",
              "      <td>Cabecera Municipal</td>\n",
              "      <td>CÓRDOBA</td>\n",
              "      <td>AYAPEL</td>\n",
              "      <td>23</td>\n",
              "      <td>POLYGON ((-75.18418 8.39828, -75.18352 8.39893...</td>\n",
              "    </tr>\n",
              "    <tr>\n",
              "      <th>3</th>\n",
              "      <td>23580</td>\n",
              "      <td>1650.73</td>\n",
              "      <td>Cabecera Municipal</td>\n",
              "      <td>CÓRDOBA</td>\n",
              "      <td>PUERTO LIBERTADOR</td>\n",
              "      <td>23</td>\n",
              "      <td>POLYGON ((-75.51257 7.94787, -75.51315 7.94683...</td>\n",
              "    </tr>\n",
              "    <tr>\n",
              "      <th>4</th>\n",
              "      <td>23686</td>\n",
              "      <td>472.57</td>\n",
              "      <td>Cabecera Municipal</td>\n",
              "      <td>CÓRDOBA</td>\n",
              "      <td>SAN PELAYO</td>\n",
              "      <td>23</td>\n",
              "      <td>POLYGON ((-75.71080 8.98249, -75.71024 8.98264...</td>\n",
              "    </tr>\n",
              "    <tr>\n",
              "      <th>...</th>\n",
              "      <td>...</td>\n",
              "      <td>...</td>\n",
              "      <td>...</td>\n",
              "      <td>...</td>\n",
              "      <td>...</td>\n",
              "      <td>...</td>\n",
              "      <td>...</td>\n",
              "    </tr>\n",
              "    <tr>\n",
              "      <th>1123</th>\n",
              "      <td>23675</td>\n",
              "      <td>335.03</td>\n",
              "      <td>Cabecera Municipal</td>\n",
              "      <td>CÓRDOBA</td>\n",
              "      <td>SAN BERNARDO DEL VIENTO</td>\n",
              "      <td>23</td>\n",
              "      <td>POLYGON ((-75.86320 9.42472, -75.86318 9.42231...</td>\n",
              "    </tr>\n",
              "    <tr>\n",
              "      <th>1124</th>\n",
              "      <td>23672</td>\n",
              "      <td>210.75</td>\n",
              "      <td>Cabecera Municipal</td>\n",
              "      <td>CÓRDOBA</td>\n",
              "      <td>SAN ANTERO</td>\n",
              "      <td>23</td>\n",
              "      <td>POLYGON ((-75.86320 9.42472, -75.86297 9.42476...</td>\n",
              "    </tr>\n",
              "    <tr>\n",
              "      <th>1125</th>\n",
              "      <td>23168</td>\n",
              "      <td>320.42</td>\n",
              "      <td>Cabecera Municipal</td>\n",
              "      <td>CÓRDOBA</td>\n",
              "      <td>CHIMÁ</td>\n",
              "      <td>23</td>\n",
              "      <td>POLYGON ((-75.71080 8.98249, -75.71213 8.98212...</td>\n",
              "    </tr>\n",
              "    <tr>\n",
              "      <th>1126</th>\n",
              "      <td>23670</td>\n",
              "      <td>212.44</td>\n",
              "      <td>Cabecera Municipal</td>\n",
              "      <td>CÓRDOBA</td>\n",
              "      <td>SAN ANDRÉS DE SOTAVENTO</td>\n",
              "      <td>23</td>\n",
              "      <td>POLYGON ((-75.57457 9.02304, -75.57458 9.02421...</td>\n",
              "    </tr>\n",
              "    <tr>\n",
              "      <th>1127</th>\n",
              "      <td>23182</td>\n",
              "      <td>584.90</td>\n",
              "      <td>Cabecera Municipal</td>\n",
              "      <td>CÓRDOBA</td>\n",
              "      <td>CHINÚ</td>\n",
              "      <td>23</td>\n",
              "      <td>POLYGON ((-75.57457 9.02304, -75.57438 9.02306...</td>\n",
              "    </tr>\n",
              "  </tbody>\n",
              "</table>\n",
              "<p>1128 rows × 7 columns</p>\n",
              "</div>"
            ],
            "text/plain": [
              "     ID_ESPACIA  AREA_OFICI          ENTIDAD_TE NOM_DEPART  \\\n",
              "0         23189      637.49  Cabecera Municipal    CÓRDOBA   \n",
              "1         23570      795.00  Cabecera Municipal    CÓRDOBA   \n",
              "2         23068     1932.62  Cabecera Municipal    CÓRDOBA   \n",
              "3         23580     1650.73  Cabecera Municipal    CÓRDOBA   \n",
              "4         23686      472.57  Cabecera Municipal    CÓRDOBA   \n",
              "...         ...         ...                 ...        ...   \n",
              "1123      23675      335.03  Cabecera Municipal    CÓRDOBA   \n",
              "1124      23672      210.75  Cabecera Municipal    CÓRDOBA   \n",
              "1125      23168      320.42  Cabecera Municipal    CÓRDOBA   \n",
              "1126      23670      212.44  Cabecera Municipal    CÓRDOBA   \n",
              "1127      23182      584.90  Cabecera Municipal    CÓRDOBA   \n",
              "\n",
              "                   NOM_MUNICI COD_DEPTO  \\\n",
              "0              CIÉNAGA DE ORO        23   \n",
              "1                PUEBLO NUEVO        23   \n",
              "2                      AYAPEL        23   \n",
              "3           PUERTO LIBERTADOR        23   \n",
              "4                  SAN PELAYO        23   \n",
              "...                       ...       ...   \n",
              "1123  SAN BERNARDO DEL VIENTO        23   \n",
              "1124               SAN ANTERO        23   \n",
              "1125                    CHIMÁ        23   \n",
              "1126  SAN ANDRÉS DE SOTAVENTO        23   \n",
              "1127                    CHINÚ        23   \n",
              "\n",
              "                                               geometry  \n",
              "0     POLYGON ((-75.71080 8.98249, -75.71119 8.98358...  \n",
              "1     POLYGON ((-75.25133 8.32489, -75.25144 8.32489...  \n",
              "2     POLYGON ((-75.18418 8.39828, -75.18352 8.39893...  \n",
              "3     POLYGON ((-75.51257 7.94787, -75.51315 7.94683...  \n",
              "4     POLYGON ((-75.71080 8.98249, -75.71024 8.98264...  \n",
              "...                                                 ...  \n",
              "1123  POLYGON ((-75.86320 9.42472, -75.86318 9.42231...  \n",
              "1124  POLYGON ((-75.86320 9.42472, -75.86297 9.42476...  \n",
              "1125  POLYGON ((-75.71080 8.98249, -75.71213 8.98212...  \n",
              "1126  POLYGON ((-75.57457 9.02304, -75.57458 9.02421...  \n",
              "1127  POLYGON ((-75.57457 9.02304, -75.57438 9.02306...  \n",
              "\n",
              "[1128 rows x 7 columns]"
            ]
          },
          "execution_count": 2,
          "metadata": {},
          "output_type": "execute_result"
        }
      ],
      "source": [
        "# Download Colombia boundary\n",
        "colombia_boundary_url = (\"https://maps.princeton.edu/download/file/tufts-colombia-municipalities-11-shapefile.zip\")\n",
        "\n",
        "# Open Colombia boundary .shp with geopandas\n",
        "colombia_gdf = gpd.read_file(colombia_boundary_url)\n",
        "colombia_gdf\n"
      ]
    },
    {
      "cell_type": "markdown",
      "metadata": {
        "id": "SeohkclML1k0"
      },
      "source": [
        "## **Department Boundaries**"
      ]
    },
    {
      "cell_type": "code",
      "execution_count": 3,
      "metadata": {
        "id": "tjZHz8Fq1Bs1"
      },
      "outputs": [
        {
          "data": {
            "text/html": [
              "<div>\n",
              "<style scoped>\n",
              "    .dataframe tbody tr th:only-of-type {\n",
              "        vertical-align: middle;\n",
              "    }\n",
              "\n",
              "    .dataframe tbody tr th {\n",
              "        vertical-align: top;\n",
              "    }\n",
              "\n",
              "    .dataframe thead th {\n",
              "        text-align: right;\n",
              "    }\n",
              "</style>\n",
              "<table border=\"1\" class=\"dataframe\">\n",
              "  <thead>\n",
              "    <tr style=\"text-align: right;\">\n",
              "      <th></th>\n",
              "      <th>ID_0</th>\n",
              "      <th>ISO</th>\n",
              "      <th>NAME_0</th>\n",
              "      <th>ID_1</th>\n",
              "      <th>NAME_1</th>\n",
              "      <th>ID_2</th>\n",
              "      <th>NAME_2</th>\n",
              "      <th>HASC_2</th>\n",
              "      <th>CCN_2</th>\n",
              "      <th>CCA_2</th>\n",
              "      <th>TYPE_2</th>\n",
              "      <th>ENGTYPE_2</th>\n",
              "      <th>NL_NAME_2</th>\n",
              "      <th>VARNAME_2</th>\n",
              "      <th>geometry</th>\n",
              "    </tr>\n",
              "  </thead>\n",
              "  <tbody>\n",
              "    <tr>\n",
              "      <th>0</th>\n",
              "      <td>53</td>\n",
              "      <td>COL</td>\n",
              "      <td>Colombia</td>\n",
              "      <td>1</td>\n",
              "      <td>Amazonas</td>\n",
              "      <td>1</td>\n",
              "      <td>El Encanto</td>\n",
              "      <td>CO.AM.EE</td>\n",
              "      <td>0</td>\n",
              "      <td>NaN</td>\n",
              "      <td>Corregimiento Departamento</td>\n",
              "      <td>Corregimiento Departamento</td>\n",
              "      <td>NaN</td>\n",
              "      <td>NaN</td>\n",
              "      <td>POLYGON ((-73.95367 -1.10172, -73.95241 -1.098...</td>\n",
              "    </tr>\n",
              "    <tr>\n",
              "      <th>1</th>\n",
              "      <td>53</td>\n",
              "      <td>COL</td>\n",
              "      <td>Colombia</td>\n",
              "      <td>1</td>\n",
              "      <td>Amazonas</td>\n",
              "      <td>2</td>\n",
              "      <td>La Chorrera</td>\n",
              "      <td>CO.AM.LC</td>\n",
              "      <td>0</td>\n",
              "      <td>NaN</td>\n",
              "      <td>Corregimiento Departamento</td>\n",
              "      <td>Corregimiento Departamento</td>\n",
              "      <td>NaN</td>\n",
              "      <td>NaN</td>\n",
              "      <td>POLYGON ((-71.98020 -1.81340, -71.96750 -1.831...</td>\n",
              "    </tr>\n",
              "    <tr>\n",
              "      <th>2</th>\n",
              "      <td>53</td>\n",
              "      <td>COL</td>\n",
              "      <td>Colombia</td>\n",
              "      <td>1</td>\n",
              "      <td>Amazonas</td>\n",
              "      <td>3</td>\n",
              "      <td>La Pedrera</td>\n",
              "      <td>CO.AM.LP</td>\n",
              "      <td>0</td>\n",
              "      <td>NaN</td>\n",
              "      <td>Corregimiento Departamento</td>\n",
              "      <td>Corregimiento Departamento</td>\n",
              "      <td>NaN</td>\n",
              "      <td>NaN</td>\n",
              "      <td>MULTIPOLYGON (((-72.61586 -0.92313, -72.59810 ...</td>\n",
              "    </tr>\n",
              "    <tr>\n",
              "      <th>3</th>\n",
              "      <td>53</td>\n",
              "      <td>COL</td>\n",
              "      <td>Colombia</td>\n",
              "      <td>1</td>\n",
              "      <td>Amazonas</td>\n",
              "      <td>4</td>\n",
              "      <td>Leticia</td>\n",
              "      <td>CO.AM.LE</td>\n",
              "      <td>0</td>\n",
              "      <td>NaN</td>\n",
              "      <td>Municipio</td>\n",
              "      <td>Municipality</td>\n",
              "      <td>NaN</td>\n",
              "      <td>NaN</td>\n",
              "      <td>POLYGON ((-70.28952 -3.83257, -70.28491 -3.822...</td>\n",
              "    </tr>\n",
              "    <tr>\n",
              "      <th>4</th>\n",
              "      <td>53</td>\n",
              "      <td>COL</td>\n",
              "      <td>Colombia</td>\n",
              "      <td>1</td>\n",
              "      <td>Amazonas</td>\n",
              "      <td>5</td>\n",
              "      <td>Mirití-Paraná</td>\n",
              "      <td>CO.AM.MI</td>\n",
              "      <td>0</td>\n",
              "      <td>NaN</td>\n",
              "      <td>Corregimiento Departamento</td>\n",
              "      <td>Corregimiento Departamento</td>\n",
              "      <td>NaN</td>\n",
              "      <td>Miriti Parana</td>\n",
              "      <td>POLYGON ((-70.21880 -0.48360, -70.20900 -0.489...</td>\n",
              "    </tr>\n",
              "    <tr>\n",
              "      <th>...</th>\n",
              "      <td>...</td>\n",
              "      <td>...</td>\n",
              "      <td>...</td>\n",
              "      <td>...</td>\n",
              "      <td>...</td>\n",
              "      <td>...</td>\n",
              "      <td>...</td>\n",
              "      <td>...</td>\n",
              "      <td>...</td>\n",
              "      <td>...</td>\n",
              "      <td>...</td>\n",
              "      <td>...</td>\n",
              "      <td>...</td>\n",
              "      <td>...</td>\n",
              "      <td>...</td>\n",
              "    </tr>\n",
              "    <tr>\n",
              "      <th>1060</th>\n",
              "      <td>53</td>\n",
              "      <td>COL</td>\n",
              "      <td>Colombia</td>\n",
              "      <td>32</td>\n",
              "      <td>Vichada</td>\n",
              "      <td>1061</td>\n",
              "      <td>La Primavera</td>\n",
              "      <td>CO.VD.LP</td>\n",
              "      <td>0</td>\n",
              "      <td>NaN</td>\n",
              "      <td>Municipio</td>\n",
              "      <td>Municipality</td>\n",
              "      <td>NaN</td>\n",
              "      <td>NaN</td>\n",
              "      <td>POLYGON ((-68.54120 5.43700, -68.55100 5.43360...</td>\n",
              "    </tr>\n",
              "    <tr>\n",
              "      <th>1061</th>\n",
              "      <td>53</td>\n",
              "      <td>COL</td>\n",
              "      <td>Colombia</td>\n",
              "      <td>32</td>\n",
              "      <td>Vichada</td>\n",
              "      <td>1062</td>\n",
              "      <td>Puerto Carreño</td>\n",
              "      <td>CO.VD.PC</td>\n",
              "      <td>0</td>\n",
              "      <td>NaN</td>\n",
              "      <td>Municipio</td>\n",
              "      <td>Municipality</td>\n",
              "      <td>NaN</td>\n",
              "      <td>NaN</td>\n",
              "      <td>POLYGON ((-67.49085 6.14925, -67.49323 6.13791...</td>\n",
              "    </tr>\n",
              "    <tr>\n",
              "      <th>1062</th>\n",
              "      <td>53</td>\n",
              "      <td>COL</td>\n",
              "      <td>Colombia</td>\n",
              "      <td>32</td>\n",
              "      <td>Vichada</td>\n",
              "      <td>1063</td>\n",
              "      <td>San Jose de Ocune</td>\n",
              "      <td>CO.VD</td>\n",
              "      <td>0</td>\n",
              "      <td>NaN</td>\n",
              "      <td>Municipio</td>\n",
              "      <td>Municipality</td>\n",
              "      <td>NaN</td>\n",
              "      <td>NaN</td>\n",
              "      <td>POLYGON ((-71.09520 2.84550, -71.09780 3.34340...</td>\n",
              "    </tr>\n",
              "    <tr>\n",
              "      <th>1063</th>\n",
              "      <td>53</td>\n",
              "      <td>COL</td>\n",
              "      <td>Colombia</td>\n",
              "      <td>32</td>\n",
              "      <td>Vichada</td>\n",
              "      <td>1064</td>\n",
              "      <td>Santa Rita</td>\n",
              "      <td>NaN</td>\n",
              "      <td>0</td>\n",
              "      <td>NaN</td>\n",
              "      <td>Municipio</td>\n",
              "      <td>Municipality</td>\n",
              "      <td>NaN</td>\n",
              "      <td>NaN</td>\n",
              "      <td>POLYGON ((-68.90510 3.65020, -68.87930 3.92910...</td>\n",
              "    </tr>\n",
              "    <tr>\n",
              "      <th>1064</th>\n",
              "      <td>53</td>\n",
              "      <td>COL</td>\n",
              "      <td>Colombia</td>\n",
              "      <td>32</td>\n",
              "      <td>Vichada</td>\n",
              "      <td>1065</td>\n",
              "      <td>Santa Rosalía</td>\n",
              "      <td>CO.VD.SR</td>\n",
              "      <td>0</td>\n",
              "      <td>NaN</td>\n",
              "      <td>Municipio</td>\n",
              "      <td>Municipality</td>\n",
              "      <td>NaN</td>\n",
              "      <td>NaN</td>\n",
              "      <td>POLYGON ((-70.38830 4.67342, -70.39980 4.66840...</td>\n",
              "    </tr>\n",
              "  </tbody>\n",
              "</table>\n",
              "<p>1065 rows × 15 columns</p>\n",
              "</div>"
            ],
            "text/plain": [
              "      ID_0  ISO    NAME_0  ID_1    NAME_1  ID_2             NAME_2    HASC_2  \\\n",
              "0       53  COL  Colombia     1  Amazonas     1         El Encanto  CO.AM.EE   \n",
              "1       53  COL  Colombia     1  Amazonas     2        La Chorrera  CO.AM.LC   \n",
              "2       53  COL  Colombia     1  Amazonas     3         La Pedrera  CO.AM.LP   \n",
              "3       53  COL  Colombia     1  Amazonas     4            Leticia  CO.AM.LE   \n",
              "4       53  COL  Colombia     1  Amazonas     5      Mirití-Paraná  CO.AM.MI   \n",
              "...    ...  ...       ...   ...       ...   ...                ...       ...   \n",
              "1060    53  COL  Colombia    32   Vichada  1061       La Primavera  CO.VD.LP   \n",
              "1061    53  COL  Colombia    32   Vichada  1062     Puerto Carreño  CO.VD.PC   \n",
              "1062    53  COL  Colombia    32   Vichada  1063  San Jose de Ocune     CO.VD   \n",
              "1063    53  COL  Colombia    32   Vichada  1064         Santa Rita       NaN   \n",
              "1064    53  COL  Colombia    32   Vichada  1065      Santa Rosalía  CO.VD.SR   \n",
              "\n",
              "      CCN_2  CCA_2                      TYPE_2                   ENGTYPE_2  \\\n",
              "0         0    NaN  Corregimiento Departamento  Corregimiento Departamento   \n",
              "1         0    NaN  Corregimiento Departamento  Corregimiento Departamento   \n",
              "2         0    NaN  Corregimiento Departamento  Corregimiento Departamento   \n",
              "3         0    NaN                   Municipio                Municipality   \n",
              "4         0    NaN  Corregimiento Departamento  Corregimiento Departamento   \n",
              "...     ...    ...                         ...                         ...   \n",
              "1060      0    NaN                   Municipio                Municipality   \n",
              "1061      0    NaN                   Municipio                Municipality   \n",
              "1062      0    NaN                   Municipio                Municipality   \n",
              "1063      0    NaN                   Municipio                Municipality   \n",
              "1064      0    NaN                   Municipio                Municipality   \n",
              "\n",
              "      NL_NAME_2      VARNAME_2  \\\n",
              "0           NaN            NaN   \n",
              "1           NaN            NaN   \n",
              "2           NaN            NaN   \n",
              "3           NaN            NaN   \n",
              "4           NaN  Miriti Parana   \n",
              "...         ...            ...   \n",
              "1060        NaN            NaN   \n",
              "1061        NaN            NaN   \n",
              "1062        NaN            NaN   \n",
              "1063        NaN            NaN   \n",
              "1064        NaN            NaN   \n",
              "\n",
              "                                               geometry  \n",
              "0     POLYGON ((-73.95367 -1.10172, -73.95241 -1.098...  \n",
              "1     POLYGON ((-71.98020 -1.81340, -71.96750 -1.831...  \n",
              "2     MULTIPOLYGON (((-72.61586 -0.92313, -72.59810 ...  \n",
              "3     POLYGON ((-70.28952 -3.83257, -70.28491 -3.822...  \n",
              "4     POLYGON ((-70.21880 -0.48360, -70.20900 -0.489...  \n",
              "...                                                 ...  \n",
              "1060  POLYGON ((-68.54120 5.43700, -68.55100 5.43360...  \n",
              "1061  POLYGON ((-67.49085 6.14925, -67.49323 6.13791...  \n",
              "1062  POLYGON ((-71.09520 2.84550, -71.09780 3.34340...  \n",
              "1063  POLYGON ((-68.90510 3.65020, -68.87930 3.92910...  \n",
              "1064  POLYGON ((-70.38830 4.67342, -70.39980 4.66840...  \n",
              "\n",
              "[1065 rows x 15 columns]"
            ]
          },
          "execution_count": 3,
          "metadata": {},
          "output_type": "execute_result"
        }
      ],
      "source": [
        "# Colombia Admin boundaries\n",
        "dept_url = (\"https://stacks.stanford.edu/file/druid:mj028ht5751/data.zip\")\n",
        "\n",
        "# Open data with geopandas\n",
        "dept_gdf = gpd.read_file(dept_url)\n",
        "dept_gdf\n",
        "\n"
      ]
    },
    {
      "cell_type": "code",
      "execution_count": 4,
      "metadata": {
        "id": "sHrvE7xz35cx"
      },
      "outputs": [
        {
          "name": "stdout",
          "output_type": "stream",
          "text": [
            "<class 'geopandas.geodataframe.GeoDataFrame'>\n",
            "RangeIndex: 1065 entries, 0 to 1064\n",
            "Data columns (total 15 columns):\n",
            " #   Column     Non-Null Count  Dtype   \n",
            "---  ------     --------------  -----   \n",
            " 0   ID_0       1065 non-null   int64   \n",
            " 1   ISO        1065 non-null   object  \n",
            " 2   NAME_0     1065 non-null   object  \n",
            " 3   ID_1       1065 non-null   int64   \n",
            " 4   NAME_1     1065 non-null   object  \n",
            " 5   ID_2       1065 non-null   int64   \n",
            " 6   NAME_2     1065 non-null   object  \n",
            " 7   HASC_2     1062 non-null   object  \n",
            " 8   CCN_2      1065 non-null   int64   \n",
            " 9   CCA_2      0 non-null      float64 \n",
            " 10  TYPE_2     1056 non-null   object  \n",
            " 11  ENGTYPE_2  1056 non-null   object  \n",
            " 12  NL_NAME_2  0 non-null      float64 \n",
            " 13  VARNAME_2  87 non-null     object  \n",
            " 14  geometry   1065 non-null   geometry\n",
            "dtypes: float64(2), geometry(1), int64(4), object(8)\n",
            "memory usage: 124.9+ KB\n"
          ]
        },
        {
          "data": {
            "text/plain": [
              "0              El Encanto\n",
              "1             La Chorrera\n",
              "2              La Pedrera\n",
              "3                 Leticia\n",
              "4           Mirití-Paraná\n",
              "              ...        \n",
              "1060         La Primavera\n",
              "1061       Puerto Carreño\n",
              "1062    San Jose de Ocune\n",
              "1063           Santa Rita\n",
              "1064        Santa Rosalía\n",
              "Name: NAME_2, Length: 1065, dtype: object"
            ]
          },
          "execution_count": 4,
          "metadata": {},
          "output_type": "execute_result"
        }
      ],
      "source": [
        "# Explore department boundary data using .info()\n",
        "dept_gdf.info()\n",
        "\n",
        "# Look at \"NAME_2\" column values\n",
        "dept_gdf[\"NAME_2\"]"
      ]
    },
    {
      "cell_type": "code",
      "execution_count": 5,
      "metadata": {
        "id": "1oB0RRJ3t2Op"
      },
      "outputs": [
        {
          "data": {
            "text/html": [
              "<div>\n",
              "<style scoped>\n",
              "    .dataframe tbody tr th:only-of-type {\n",
              "        vertical-align: middle;\n",
              "    }\n",
              "\n",
              "    .dataframe tbody tr th {\n",
              "        vertical-align: top;\n",
              "    }\n",
              "\n",
              "    .dataframe thead th {\n",
              "        text-align: right;\n",
              "    }\n",
              "</style>\n",
              "<table border=\"1\" class=\"dataframe\">\n",
              "  <thead>\n",
              "    <tr style=\"text-align: right;\">\n",
              "      <th></th>\n",
              "      <th>ID_ESPACIA</th>\n",
              "      <th>AREA_OFICI</th>\n",
              "      <th>ENTIDAD_TE</th>\n",
              "      <th>NOM_DEPART</th>\n",
              "      <th>NOM_MUNICI</th>\n",
              "      <th>COD_DEPTO</th>\n",
              "      <th>geometry</th>\n",
              "    </tr>\n",
              "  </thead>\n",
              "  <tbody>\n",
              "    <tr>\n",
              "      <th>33</th>\n",
              "      <td>91530</td>\n",
              "      <td>8410.09</td>\n",
              "      <td>Corregimiento Departamental</td>\n",
              "      <td>AMAZONAS</td>\n",
              "      <td>PUERTO ALEGRÍA (Cor. Departamental)</td>\n",
              "      <td>91</td>\n",
              "      <td>POLYGON ((-74.38851 -0.55351, -74.38102 -0.551...</td>\n",
              "    </tr>\n",
              "    <tr>\n",
              "      <th>34</th>\n",
              "      <td>91263</td>\n",
              "      <td>10690.26</td>\n",
              "      <td>Corregimiento Departamental</td>\n",
              "      <td>AMAZONAS</td>\n",
              "      <td>EL ENCANTO (Cor. Departamental)</td>\n",
              "      <td>91</td>\n",
              "      <td>POLYGON ((-71.77392 -2.17489, -71.77594 -2.176...</td>\n",
              "    </tr>\n",
              "    <tr>\n",
              "      <th>35</th>\n",
              "      <td>91536</td>\n",
              "      <td>13641.05</td>\n",
              "      <td>Corregimiento Departamental</td>\n",
              "      <td>AMAZONAS</td>\n",
              "      <td>PUERTO ARICA (Cor. Departamental)</td>\n",
              "      <td>91</td>\n",
              "      <td>POLYGON ((-71.77392 -2.17489, -71.77593 -2.171...</td>\n",
              "    </tr>\n",
              "    <tr>\n",
              "      <th>36</th>\n",
              "      <td>91798</td>\n",
              "      <td>9137.71</td>\n",
              "      <td>Corregimiento Departamental</td>\n",
              "      <td>AMAZONAS</td>\n",
              "      <td>TARAPACÁ (Cor. Departamental)</td>\n",
              "      <td>91</td>\n",
              "      <td>POLYGON ((-69.71428 -3.00261, -69.71601 -3.002...</td>\n",
              "    </tr>\n",
              "    <tr>\n",
              "      <th>37</th>\n",
              "      <td>91001</td>\n",
              "      <td>6186.26</td>\n",
              "      <td>CAP. DEPTO</td>\n",
              "      <td>AMAZONAS</td>\n",
              "      <td>LETICIA</td>\n",
              "      <td>91</td>\n",
              "      <td>POLYGON ((-69.71428 -3.00261, -69.88301 -3.940...</td>\n",
              "    </tr>\n",
              "    <tr>\n",
              "      <th>38</th>\n",
              "      <td>91540</td>\n",
              "      <td>1515.58</td>\n",
              "      <td>Cabecera Municipal</td>\n",
              "      <td>AMAZONAS</td>\n",
              "      <td>PUERTO NARIÑO</td>\n",
              "      <td>91</td>\n",
              "      <td>POLYGON ((-70.33734 -3.20082, -70.33744 -3.211...</td>\n",
              "    </tr>\n",
              "    <tr>\n",
              "      <th>39</th>\n",
              "      <td>91460</td>\n",
              "      <td>16891.79</td>\n",
              "      <td>Corregimiento Departamental</td>\n",
              "      <td>AMAZONAS</td>\n",
              "      <td>MIRITÍ-PARANÁ (Campoamor) (Cor. Departamental)</td>\n",
              "      <td>91</td>\n",
              "      <td>POLYGON ((-71.99610 -0.26831, -71.98758 -0.268...</td>\n",
              "    </tr>\n",
              "    <tr>\n",
              "      <th>40</th>\n",
              "      <td>91430</td>\n",
              "      <td>1506.18</td>\n",
              "      <td>Corregimiento Departamental</td>\n",
              "      <td>AMAZONAS</td>\n",
              "      <td>LA VICTORIA (Pacoa) (Cor. Departamental)</td>\n",
              "      <td>91</td>\n",
              "      <td>POLYGON ((-71.44949 0.02042, -71.44805 0.02046...</td>\n",
              "    </tr>\n",
              "    <tr>\n",
              "      <th>41</th>\n",
              "      <td>91405</td>\n",
              "      <td>12738.75</td>\n",
              "      <td>Corregimiento Departamental</td>\n",
              "      <td>AMAZONAS</td>\n",
              "      <td>LA CHORRERA (Cor. Departamental)</td>\n",
              "      <td>91</td>\n",
              "      <td>POLYGON ((-71.99031 -1.53227, -71.99052 -1.553...</td>\n",
              "    </tr>\n",
              "    <tr>\n",
              "      <th>42</th>\n",
              "      <td>91669</td>\n",
              "      <td>14759.22</td>\n",
              "      <td>Corregimiento Departamental</td>\n",
              "      <td>AMAZONAS</td>\n",
              "      <td>SANTANDER (Araracuara) (Cor. Departamental)</td>\n",
              "      <td>91</td>\n",
              "      <td>POLYGON ((-70.72647 -1.43024, -70.73084 -1.434...</td>\n",
              "    </tr>\n",
              "    <tr>\n",
              "      <th>43</th>\n",
              "      <td>91407</td>\n",
              "      <td>13679.19</td>\n",
              "      <td>Corregimiento Departamental</td>\n",
              "      <td>AMAZONAS</td>\n",
              "      <td>LA PEDRERA (Cor. Departamental)</td>\n",
              "      <td>91</td>\n",
              "      <td>POLYGON ((-69.43422 -1.07068, -69.43131 -1.072...</td>\n",
              "    </tr>\n",
              "  </tbody>\n",
              "</table>\n",
              "</div>"
            ],
            "text/plain": [
              "   ID_ESPACIA  AREA_OFICI                   ENTIDAD_TE NOM_DEPART  \\\n",
              "33      91530     8410.09  Corregimiento Departamental   AMAZONAS   \n",
              "34      91263    10690.26  Corregimiento Departamental   AMAZONAS   \n",
              "35      91536    13641.05  Corregimiento Departamental   AMAZONAS   \n",
              "36      91798     9137.71  Corregimiento Departamental   AMAZONAS   \n",
              "37      91001     6186.26                   CAP. DEPTO   AMAZONAS   \n",
              "38      91540     1515.58           Cabecera Municipal   AMAZONAS   \n",
              "39      91460    16891.79  Corregimiento Departamental   AMAZONAS   \n",
              "40      91430     1506.18  Corregimiento Departamental   AMAZONAS   \n",
              "41      91405    12738.75  Corregimiento Departamental   AMAZONAS   \n",
              "42      91669    14759.22  Corregimiento Departamental   AMAZONAS   \n",
              "43      91407    13679.19  Corregimiento Departamental   AMAZONAS   \n",
              "\n",
              "                                        NOM_MUNICI COD_DEPTO  \\\n",
              "33             PUERTO ALEGRÍA (Cor. Departamental)        91   \n",
              "34                 EL ENCANTO (Cor. Departamental)        91   \n",
              "35               PUERTO ARICA (Cor. Departamental)        91   \n",
              "36                   TARAPACÁ (Cor. Departamental)        91   \n",
              "37                                         LETICIA        91   \n",
              "38                                   PUERTO NARIÑO        91   \n",
              "39  MIRITÍ-PARANÁ (Campoamor) (Cor. Departamental)        91   \n",
              "40        LA VICTORIA (Pacoa) (Cor. Departamental)        91   \n",
              "41                LA CHORRERA (Cor. Departamental)        91   \n",
              "42     SANTANDER (Araracuara) (Cor. Departamental)        91   \n",
              "43                 LA PEDRERA (Cor. Departamental)        91   \n",
              "\n",
              "                                             geometry  \n",
              "33  POLYGON ((-74.38851 -0.55351, -74.38102 -0.551...  \n",
              "34  POLYGON ((-71.77392 -2.17489, -71.77594 -2.176...  \n",
              "35  POLYGON ((-71.77392 -2.17489, -71.77593 -2.171...  \n",
              "36  POLYGON ((-69.71428 -3.00261, -69.71601 -3.002...  \n",
              "37  POLYGON ((-69.71428 -3.00261, -69.88301 -3.940...  \n",
              "38  POLYGON ((-70.33734 -3.20082, -70.33744 -3.211...  \n",
              "39  POLYGON ((-71.99610 -0.26831, -71.98758 -0.268...  \n",
              "40  POLYGON ((-71.44949 0.02042, -71.44805 0.02046...  \n",
              "41  POLYGON ((-71.99031 -1.53227, -71.99052 -1.553...  \n",
              "42  POLYGON ((-70.72647 -1.43024, -70.73084 -1.434...  \n",
              "43  POLYGON ((-69.43422 -1.07068, -69.43131 -1.072...  "
            ]
          },
          "execution_count": 5,
          "metadata": {},
          "output_type": "execute_result"
        }
      ],
      "source": [
        "# Select Amazonas municipality\n",
        "amazonas = colombia_gdf[colombia_gdf[\"NOM_DEPART\"] == \"AMAZONAS\"] \n",
        "amazonas"
      ]
    },
    {
      "cell_type": "code",
      "execution_count": 6,
      "metadata": {
        "id": "twg0hmfEuyoO"
      },
      "outputs": [
        {
          "data": {
            "text/html": [
              "<div>\n",
              "<style scoped>\n",
              "    .dataframe tbody tr th:only-of-type {\n",
              "        vertical-align: middle;\n",
              "    }\n",
              "\n",
              "    .dataframe tbody tr th {\n",
              "        vertical-align: top;\n",
              "    }\n",
              "\n",
              "    .dataframe thead th {\n",
              "        text-align: right;\n",
              "    }\n",
              "</style>\n",
              "<table border=\"1\" class=\"dataframe\">\n",
              "  <thead>\n",
              "    <tr style=\"text-align: right;\">\n",
              "      <th></th>\n",
              "      <th>ID_ESPACIA</th>\n",
              "      <th>AREA_OFICI</th>\n",
              "      <th>ENTIDAD_TE</th>\n",
              "      <th>NOM_DEPART</th>\n",
              "      <th>NOM_MUNICI</th>\n",
              "      <th>COD_DEPTO</th>\n",
              "      <th>geometry</th>\n",
              "    </tr>\n",
              "  </thead>\n",
              "  <tbody>\n",
              "    <tr>\n",
              "      <th>38</th>\n",
              "      <td>91540</td>\n",
              "      <td>1515.58</td>\n",
              "      <td>Cabecera Municipal</td>\n",
              "      <td>AMAZONAS</td>\n",
              "      <td>PUERTO NARIÑO</td>\n",
              "      <td>91</td>\n",
              "      <td>POLYGON ((-70.33734 -3.20082, -70.33744 -3.211...</td>\n",
              "    </tr>\n",
              "  </tbody>\n",
              "</table>\n",
              "</div>"
            ],
            "text/plain": [
              "   ID_ESPACIA  AREA_OFICI          ENTIDAD_TE NOM_DEPART     NOM_MUNICI  \\\n",
              "38      91540     1515.58  Cabecera Municipal   AMAZONAS  PUERTO NARIÑO   \n",
              "\n",
              "   COD_DEPTO                                           geometry  \n",
              "38        91  POLYGON ((-70.33734 -3.20082, -70.33744 -3.211...  "
            ]
          },
          "execution_count": 6,
          "metadata": {},
          "output_type": "execute_result"
        }
      ],
      "source": [
        "# Select Puerto Nariño\n",
        "pn = amazonas[amazonas[\"NOM_MUNICI\"] == \"PUERTO NARIÑO\"]\n",
        "pn"
      ]
    },
    {
      "cell_type": "code",
      "execution_count": 7,
      "metadata": {
        "id": "GqbgzzEhu8Sx"
      },
      "outputs": [
        {
          "data": {
            "text/plain": [
              "<Axes: >"
            ]
          },
          "execution_count": 7,
          "metadata": {},
          "output_type": "execute_result"
        },
        {
          "data": {
            "image/png": "[encoded data removed]",
            "text/plain": [
              "<Figure size 640x480 with 1 Axes>"
            ]
          },
          "metadata": {},
          "output_type": "display_data"
        }
      ],
      "source": [
        "# Plot Puerto Nariño\n",
        "pn.plot()"
      ]
    },
    {
      "cell_type": "code",
      "execution_count": 8,
      "metadata": {},
      "outputs": [],
      "source": [
        "#Create an interative map of the Colombia boundaries using .explore()\n",
        "colombia_gdf.explore()\n"
      ]
    },
    {
      "cell_type": "code",
      "execution_count": null,
      "metadata": {
        "id": "CkZYc7b55xgL"
      },
      "outputs": [
        {
          "ename": "",
          "evalue": "",
          "output_type": "error",
          "traceback": [
            "\u001b[1;31mThe Kernel crashed while executing code in the the current cell or a previous cell. Please review the code in the cell(s) to identify a possible cause of the failure. Click <a href='https://aka.ms/vscodeJupyterKernelCrash'>here</a> for more info. View Jupyter <a href='command:jupyter.viewOutput'>log</a> for further details."
          ]
        }
      ],
      "source": [
        "# Plot the Colombia geodataframe using Matplotlib\n",
        "colombia_gdf.explore()"
      ]
    },
    {
      "cell_type": "markdown",
      "metadata": {
        "id": "0zjhLA2auo8v"
      },
      "source": [
        "## **Petroleum & Gas (2013)**"
      ]
    },
    {
      "cell_type": "code",
      "execution_count": null,
      "metadata": {
        "id": "3vn4G4bcuOJ0"
      },
      "outputs": [],
      "source": [
        "# Oil & Gas (point shapefile)\n",
        "\n",
        "# Citation: Petroleum and Gas Extraction Sites Colombia 2013. [Shapefile].\n",
        "# Sistema de Inforrmacion Ambiental de Colombia (SIAC).\n",
        "# Retrieved from https://maps.princeton.edu/catalog/tufts-colombia-petroleumgasexplotation-sites-13\n",
        "\n",
        "oil_url = (\"https://maps.princeton.edu/download/file/tufts-colombia-petroleumgasexplotation-sites-13-shapefile.zip\")\n",
        "\n",
        "# Open the oil and gas data using geopandas\n",
        "\n"
      ]
    },
    {
      "cell_type": "code",
      "execution_count": null,
      "metadata": {
        "id": "i2aOrOdjPAVN"
      },
      "outputs": [],
      "source": [
        "# Print all the entries in the 'SOLICITANT' column using .to_string(index=False)\n"
      ]
    },
    {
      "cell_type": "code",
      "execution_count": null,
      "metadata": {
        "id": "5qGZ-QMcu2y3"
      },
      "outputs": [],
      "source": [
        "# Plot Oil and Gas (2013) Locations on the Colombia boundary using Matplotlib\n"
      ]
    },
    {
      "cell_type": "markdown",
      "metadata": {
        "id": "rtGEdVnoLTN5"
      },
      "source": [
        "## **Rivers**"
      ]
    },
    {
      "cell_type": "code",
      "execution_count": null,
      "metadata": {
        "id": "jB_knVH6yEci"
      },
      "outputs": [],
      "source": [
        "# Open Colombia rivers\n",
        "rivers_url = (\"https://maps.princeton.edu/download/file/tufts-colombia-major-rivers-11-shapefile.zip\")\n",
        "\n",
        "# Open rivers using geopandas\n"
      ]
    },
    {
      "cell_type": "code",
      "execution_count": null,
      "metadata": {
        "id": "CKy7sJSCWZfo"
      },
      "outputs": [],
      "source": [
        "# Examine the data using .info()\n",
        "\n",
        "# Print the rivers Coordinate Reference System (CRS)\n"
      ]
    },
    {
      "cell_type": "code",
      "execution_count": null,
      "metadata": {
        "id": "52628cBya4zU"
      },
      "outputs": [],
      "source": [
        "# Plot the rivers data using .plot()\n"
      ]
    },
    {
      "cell_type": "markdown",
      "metadata": {
        "id": "irGpaSDoLVvn"
      },
      "source": [
        "## **Roads**"
      ]
    },
    {
      "cell_type": "code",
      "execution_count": null,
      "metadata": {
        "id": "xcs9WAtTJi6s"
      },
      "outputs": [],
      "source": [
        "# Open Columbia roads (850,000 entries!)\n",
        "roads_url = (\"https://maps.princeton.edu/download/file/tufts-colombia-roads-11-shapefile.zip\")\n",
        "\n",
        "# Open the roads data using geopandas\n"
      ]
    },
    {
      "cell_type": "code",
      "execution_count": null,
      "metadata": {
        "id": "tn6uKQHrMTLk"
      },
      "outputs": [],
      "source": [
        "# Explore data using .info()\n",
        "roads_gdf.info()"
      ]
    },
    {
      "cell_type": "markdown",
      "metadata": {
        "id": "ij3Ojb0SLNsu"
      },
      "source": [
        "## **Airports**"
      ]
    },
    {
      "cell_type": "code",
      "execution_count": null,
      "metadata": {
        "id": "ctx3wcTl6DNY"
      },
      "outputs": [],
      "source": [
        "# Download Airports data\n",
        "col_airports_url = \"https://maps.princeton.edu/download/file/tufts-colombia-mainairports-14-shapefile.zip\"\n",
        "\n",
        "# Open airports data using geopandas\n"
      ]
    },
    {
      "cell_type": "code",
      "execution_count": null,
      "metadata": {
        "id": "Urt-_d4t7xAm"
      },
      "outputs": [],
      "source": [
        "# Determine number of airport types per admin designation using pd.crosstab()\n"
      ]
    },
    {
      "cell_type": "code",
      "execution_count": null,
      "metadata": {
        "id": "KL44jX4jamd5"
      },
      "outputs": [],
      "source": [
        "# Plot the airports data using .plot()\n"
      ]
    },
    {
      "cell_type": "code",
      "execution_count": null,
      "metadata": {
        "id": "fmQY6Yd0CaFQ"
      },
      "outputs": [],
      "source": [
        "# Looking at airport data as csv (pandas df) [from the previous notebook]\n",
        "col_airports_df = pd.read_csv(\"https://ourairports.com/countries/CO/airports.csv\")\n",
        "col_airports_df"
      ]
    },
    {
      "cell_type": "code",
      "execution_count": null,
      "metadata": {
        "id": "iPDg2Hsy9ocp"
      },
      "outputs": [],
      "source": [
        "# Create geodataframe from pandas df\n",
        "\n",
        "\n",
        "# Convert to shp\n",
        "\n",
        "\n",
        "# Call the 'new' col_airports_gdf2\n"
      ]
    },
    {
      "cell_type": "code",
      "execution_count": null,
      "metadata": {
        "id": "PBD9ia-MIID6"
      },
      "outputs": [],
      "source": [
        "# Select only international, military and national airports from col_airports_gdf\n"
      ]
    },
    {
      "cell_type": "code",
      "execution_count": null,
      "metadata": {
        "id": "drR4LdEH-t0w"
      },
      "outputs": [],
      "source": [
        "# Create map of Colombia boundaries, rivers, airports, and roads on the same axis using Matplotlib\n"
      ]
    },
    {
      "cell_type": "code",
      "execution_count": null,
      "metadata": {
        "id": "C3mx3SUmf7Wc"
      },
      "outputs": [],
      "source": [
        "# Conservation Areas\n",
        "conservation_url = \"https://maps.princeton.edu/download/file/tufts-colombia-prioritizedenvconsareas-12-shapefile.zip\"\n",
        "\n",
        "conservation_gdf = gpd.read_file(conservation_url)\n",
        "conservation_gdf"
      ]
    },
    {
      "cell_type": "code",
      "execution_count": null,
      "metadata": {
        "id": "JTkZa5YbDT8D"
      },
      "outputs": [],
      "source": [
        "# Forest areas\n",
        "forest_url = \"https://maps.princeton.edu/download/file/tufts-colombia-forest-reserves-12-shapefile.zip\"\n",
        "\n",
        "forest_gdf = gpd.read_file(forest_url)\n",
        "forest_gdf"
      ]
    },
    {
      "cell_type": "code",
      "execution_count": null,
      "metadata": {
        "id": "h0x2WZBygQqz"
      },
      "outputs": [],
      "source": [
        "# Plot the conservation areas using .plot() and color by 'PRIORIDAD'\n"
      ]
    },
    {
      "cell_type": "code",
      "execution_count": null,
      "metadata": {
        "id": "l518zTOKh2b-"
      },
      "outputs": [],
      "source": [
        "# Plot Colombia boundaries and forested areas colored by 'nombre_zrf' on same axis using Matplotlib\n"
      ]
    },
    {
      "cell_type": "code",
      "execution_count": null,
      "metadata": {
        "id": "pNUINN91jGyo"
      },
      "outputs": [],
      "source": [
        "# Mining Areas\n",
        "mining_url = \"https://maps.princeton.edu/download/file/tufts-colombia-miningprojects-13-shapefile.zip\"\n",
        "mining_gdf = gpd.read_file(mining_url)\n",
        "mining_gdf.plot()"
      ]
    },
    {
      "cell_type": "code",
      "execution_count": null,
      "metadata": {
        "id": "dhdPKhqsjYsq"
      },
      "outputs": [],
      "source": [
        "# Petroleum / Gas exploration 2014 - *Polygon\n",
        "gas_2014_url = \"https://maps.princeton.edu/download/file/tufts-colombia-petroleumgasexplorationareas-14-shapefile.zip\"\n",
        "\n",
        "# Open data using geopandas and plot using .plot() color by 'SOLICITANT'\n"
      ]
    },
    {
      "cell_type": "code",
      "execution_count": null,
      "metadata": {
        "id": "hMU6tCDZjvGi"
      },
      "outputs": [],
      "source": [
        "# Plot the oil and gas (2014) polygon on the Colombia boundary using Matplotlib\n"
      ]
    },
    {
      "cell_type": "markdown",
      "metadata": {
        "id": "Hjc7s84Sb-UV"
      },
      "source": [
        "## **Focusing on one Department (Cauca)**\n",
        "\n",
        "\n",
        "*   Select Department\n",
        "*   Clip roads, rivers, airports to Cauca\n",
        "*   Plot all layers on common axis\n",
        "\n",
        "\n"
      ]
    },
    {
      "cell_type": "code",
      "execution_count": null,
      "metadata": {
        "id": "TIkO7mWfb9b4"
      },
      "outputs": [],
      "source": [
        "# Select Cauca (Deptarmento)\n"
      ]
    },
    {
      "cell_type": "code",
      "execution_count": null,
      "metadata": {
        "id": "kfBprF7gD3Pa"
      },
      "outputs": [],
      "source": [
        "# Select Florencia (Municipio)\n"
      ]
    },
    {
      "cell_type": "code",
      "execution_count": null,
      "metadata": {
        "id": "zceXzvAU32e7"
      },
      "outputs": [],
      "source": [
        "# Print the CRS for Cacua and the rivers_gdf data\n"
      ]
    },
    {
      "cell_type": "code",
      "execution_count": null,
      "metadata": {
        "id": "OHVxmFnZ4GVk"
      },
      "outputs": [],
      "source": [
        "# Reproject rivers_gdf to Cauca CRS (EPSG:4326)\n"
      ]
    },
    {
      "cell_type": "code",
      "execution_count": null,
      "metadata": {
        "id": "bjteMawpepaf"
      },
      "outputs": [],
      "source": [
        "# Clip rivers to Cauca boundary using gpd.clip() and plot using .plot()\n"
      ]
    },
    {
      "cell_type": "code",
      "execution_count": null,
      "metadata": {
        "id": "N1cBSrUIgra_"
      },
      "outputs": [],
      "source": [
        "# Reproject col_airports_gdf to Cauca CRS\n",
        "\n",
        "\n",
        "# Clip airports to Cauca boundary\n",
        "\n",
        "\n",
        "# Plot Cauca airports\n"
      ]
    },
    {
      "cell_type": "code",
      "execution_count": null,
      "metadata": {
        "id": "7JQuvC8gyr87"
      },
      "outputs": [],
      "source": [
        "# Reproject oil/gas to Cauca CRS\n",
        "\n",
        "\n",
        "\n",
        "# Clip oil & gas to Cauca\n"
      ]
    },
    {
      "cell_type": "code",
      "execution_count": null,
      "metadata": {
        "id": "GBcbqaPCeEFy"
      },
      "outputs": [],
      "source": [
        "# Reproject roads to Cauca CRS\n",
        "\n",
        "\n",
        "\n",
        "# Clip roads to Cauca"
      ]
    },
    {
      "cell_type": "code",
      "execution_count": null,
      "metadata": {
        "id": "XvO-LkkBdpoj"
      },
      "outputs": [],
      "source": [
        "# Plot roads, rivers, oil & gas within Cauca using Matplotlib\n"
      ]
    },
    {
      "cell_type": "markdown",
      "metadata": {
        "id": "Eg88AhAFiHPj"
      },
      "source": [
        "## **Focus on one municipality (Puetro Asis)**\n"
      ]
    },
    {
      "cell_type": "code",
      "execution_count": null,
      "metadata": {
        "id": "vDIf_0yucCvF"
      },
      "outputs": [],
      "source": [
        "# Zoom in on PUERTO ASÍS\n",
        "\n",
        "# Extract PUERTO ASÍS from Putumayo boundary\n",
        "\n",
        "\n",
        "# Clip oil gas points 2013 to PUERTO ASÍS boundary\n",
        "\n",
        "\n",
        "# Clip rivers to PUERTO ASÍS boundary\n",
        "\n",
        "\n",
        "# Clip roads to PUERTO ASÍS boundary\n",
        "\n",
        "\n",
        "# Clip airports to PUERTO ASÍS boundary\n",
        "\n",
        "\n",
        "# Clip gas/oil polygon 2014 to PUERTO ASÍS boundary\n",
        "\n",
        "\n",
        "# Plot Puerto Asis boundary and clipped oil and gas\n",
        "\n",
        "\n",
        "# Define and place legend\n",
        "\n"
      ]
    },
    {
      "cell_type": "markdown",
      "metadata": {
        "id": "plAwFY1Ydkzd"
      },
      "source": [
        "## **Interactive Maps with Folium**"
      ]
    },
    {
      "cell_type": "code",
      "execution_count": null,
      "metadata": {
        "id": "TJ-SuBv2ANyh"
      },
      "outputs": [],
      "source": [
        "# Create an interactive map of airports using folium\n",
        "\n",
        "import folium\n",
        "\n",
        "#Define coordinates of where we want to center our map\n",
        "map_center_coords = [5.0, -72.0]\n",
        "\n",
        "#Create the map\n",
        "my_map = folium.Map(location = map_center_coords, zoom_start = 6)\n",
        "\n",
        "# for lat,long in zip(bigger_air_and_heli.geometry.y, bigger_air_and_heli.geometry.x):\n",
        "#     folium.Marker(\n",
        "#         location=[lat, long],\n",
        "#         #popup=['name']\n",
        "#     ).add_to(my_map)\n",
        "\n",
        "for _, airport_info in inter_mil_nat.iterrows():\n",
        "    folium.Marker(\n",
        "        location=[airport_info.geometry.y, airport_info.geometry.x],\n",
        "        popup=airport_info['nombre']\n",
        "    ).add_to(my_map)\n",
        "\n",
        "my_map"
      ]
    },
    {
      "cell_type": "markdown",
      "metadata": {
        "id": "EJkXVnZLez8i"
      },
      "source": [
        "## **Looking at Geology Data** (hosted on CyVerse)"
      ]
    },
    {
      "cell_type": "code",
      "execution_count": null,
      "metadata": {
        "id": "nRu5Atltdpey"
      },
      "outputs": [],
      "source": [
        "# Open Geology of S America gdf\n",
        "\n",
        "geology_url = (\n",
        "    \"https://data.cyverse.org/dav-anon/iplant/home/shared/\"\n",
        "    \"earthlab/geopark/geo6ag.zip\")\n",
        "\n",
        "geology_gdf = gpd.read_file(geology_url)\n",
        "geology_gdf"
      ]
    },
    {
      "cell_type": "code",
      "execution_count": null,
      "metadata": {
        "id": "K-tFdxyRFg-d"
      },
      "outputs": [],
      "source": [
        "# Clip S America geology to Colombia boundary\n",
        "\n",
        "geog_clipped = geology_gdf.clip(cauca.geometry)\n",
        "geog_clipped"
      ]
    },
    {
      "cell_type": "code",
      "execution_count": null,
      "metadata": {
        "id": "eUcLVGqNJFs9"
      },
      "outputs": [],
      "source": [
        "# Plot clipped geology\n",
        "fig, ax = plt.subplots(figsize=(12,20))\n",
        "geog_clipped.plot(ax=ax,\n",
        "                  column='GLG',\n",
        "                  legend=True)\n",
        "plt.title(\"Geologic Map of Cauca Deptartmento Colombia\", fontsize=25)\n",
        "plt.show()"
      ]
    }
  ],
  "metadata": {
    "colab": {
      "provenance": []
    },
    "kernelspec": {
      "display_name": "Python 3",
      "name": "python3"
    },
    "language_info": {
      "codemirror_mode": {
        "name": "ipython",
        "version": 3
      },
      "file_extension": ".py",
      "mimetype": "text/x-python",
      "name": "python",
      "nbconvert_exporter": "python",
      "pygments_lexer": "ipython3",
      "version": "3.10.11"
    }
  },
  "nbformat": 4,
  "nbformat_minor": 0
}
